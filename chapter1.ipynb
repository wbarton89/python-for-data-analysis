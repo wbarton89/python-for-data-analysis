{
  "nbformat": 4,
  "nbformat_minor": 0,
  "metadata": {
    "kernelspec": {
      "display_name": "Python 3",
      "language": "python",
      "name": "python3"
    },
    "language_info": {
      "codemirror_mode": {
        "name": "ipython",
        "version": 3
      },
      "file_extension": ".py",
      "mimetype": "text/x-python",
      "name": "python",
      "nbconvert_exporter": "python",
      "pygments_lexer": "ipython3",
      "version": "3.7.3"
    },
    "colab": {
      "name": "chapter1.ipynb",
      "provenance": [],
      "toc_visible": true
    }
  },
  "cells": [
    {
      "cell_type": "markdown",
      "metadata": {
        "id": "Dh_luVh3fWEK"
      },
      "source": [
        "# Chapter 1: Preliminaries"
      ]
    },
    {
      "cell_type": "markdown",
      "metadata": {
        "id": "iW-BDTHofWEZ"
      },
      "source": [
        "## 1.1 What Is This Book About?\n",
        "\n",
        "Python programming, libraries, and tools applied to Data Analysis: \"This is the Python programming you need *for* data analysis.\""
      ]
    },
    {
      "cell_type": "markdown",
      "metadata": {
        "id": "aoPLvhQNtuG-"
      },
      "source": [
        "## 1.2 Why Python For Data Analysis?\r\n",
        "\r\n",
        "Strong general-purpose software engineering language paired with data analytics/science libraries. Ease of integration of C/C++/FORTRAN code for performance-sensitive functions (linear algebra, etc).\r\n",
        "\r\n",
        "Merger of testing / prototyping and production code. Prior to Python's adoption many firms used SAS or R to develop ideas and then transferred those ideas into production using C, Java, etc.\r\n",
        "\r\n",
        "**Why Not Python?**\r\n",
        "\r\n",
        "Python isn't suitable for some types of tasks or situations. As an interpreted language Python runs much slower than compiled languages. \r\n",
        "\r\n",
        "Python is best used when programmer / development time is valued more highly than CPU time and raw performance.  The language isn't a natural fit for multi-threaded applications."
      ]
    },
    {
      "cell_type": "markdown",
      "metadata": {
        "id": "ZRHstM-EtVFv"
      },
      "source": [
        "## 1.3 Essential Python Libraries\r\n",
        "\r\n",
        "* **NumPy**\r\n",
        "    Scientific computing library. Emphasis on high-performance arrays and mathematical operations.\r\n",
        "    \r\n",
        "    \r\n",
        "* **pandas**\r\n",
        "    Data structures (DataFrame, Series). Time-series functionality. Means of data manipulation, preperation, and cleaning.\r\n",
        "    \r\n",
        "    \r\n",
        "* **matplotlib**\r\n",
        "    Plots and two-dimensional data visualizations.\r\n",
        "       \r\n",
        "       \r\n",
        "* **IPython and Jupyter**\r\n",
        "    IPython promotes *execute-explore* workflows over and instead of *edit-compile-run* workflows. \r\n",
        "    \r\n",
        "    IPython is used as a kernel within Jupyter Notebooks. Jupyter allows a single document to contain content written in Markdown to live alongside code run by IPython.\r\n",
        "        \r\n",
        "        \r\n",
        "* **SciPy**\r\n",
        "    Often used alongside NumPy to provide mathematical and computational functionality. \r\n",
        "\r\n",
        "\r\n",
        "* **scikit-learn**\r\n",
        "    General purpose machine learning library.\r\n",
        "\r\n",
        "\r\n",
        "* **statsmodels**\r\n",
        "    Algorithms for classical statistics and econometrics."
      ]
    }
  ]
}